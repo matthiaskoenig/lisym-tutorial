{
 "cells": [
  {
   "cell_type": "markdown",
   "metadata": {},
   "source": [
    "<h1>1st LiSyM modeling tutorial</h1> \n",
    "[https://github.com/matthiaskoenig/lisym-tutorial](https://github.com/matthiaskoenig/lisym-tutorial)\n",
    "<img title=\"LiSyM\" src=\"./images/lisym.png\" width=200></img>\n",
    "\n",
    "The presentation for this tutorial is available <a href=\"./presentations/lisym-tutorial.pdf\">here</a>.\n",
    "\n",
    "## Notebooks\n",
    "The example notebooks of the tutorial are linked below\n",
    "\n",
    "* [quickstart.ipynb](./notebooks/quickstart.ipynb)\n",
    "* [repressilator.ipynb](./notebooks/repressilator.ipynb)\n",
    "* [mapk.ipynb](./notebooks/mapk.ipynb)\n",
    "\n",
    "For more information please refer to \n",
    "[https://github.com/matthiaskoenig/lisym-tutorial](https://github.com/matthiaskoenig/lisym-tutorial)"
   ]
  },
  {
   "cell_type": "code",
   "execution_count": null,
   "metadata": {
    "collapsed": true
   },
   "outputs": [],
   "source": []
  }
 ],
 "metadata": {
  "kernelspec": {
   "display_name": "dfba",
   "language": "python",
   "name": "dfba"
  },
  "language_info": {
   "codemirror_mode": {
    "name": "ipython",
    "version": 3
   },
   "file_extension": ".py",
   "mimetype": "text/x-python",
   "name": "python",
   "nbconvert_exporter": "python",
   "pygments_lexer": "ipython3",
   "version": "3.6.3"
  }
 },
 "nbformat": 4,
 "nbformat_minor": 2
}
