{
 "cells": [
  {
   "cell_type": "markdown",
   "metadata": {},
   "source": [
    "<h1>1st LiSyM modeling tutorial</h1> \n",
    "<a href=\"https://orcid.org/0000-0003-1725-179X\" title=\"https://orcid.org/0000-0003-1725-179X\">Matthias König</a>  \n",
    "[https://github.com/matthiaskoenig/lisym-tutorial](https://github.com/matthiaskoenig/lisym-tutorial)\n",
    "<img title=\"LiSyM\" src=\"./images/lisym.png\" width=200></img>\n",
    "\n",
    "The presentation for this tutorial is available <a href=\"./presentation/lisym-tutorial.pdf\">here</a>.\n",
    "\n",
    "## Notebooks\n",
    "The example notebooks of the tutorial are linked below\n",
    "\n",
    "* [repressilator.ipynb](./notebooks/repressilator.ipynb)\n",
    "* [quickstart.ipynb](./notebooks/quickstart.ipynb)\n",
    "* [model_building.ipynb](./notebooks/model_building.ipynb)\n",
    "* [mapk.ipynb](./notebooks/mapk.ipynb)\n",
    "\n",
    "For more information please refer to \n",
    "[https://github.com/matthiaskoenig/lisym-tutorial](https://github.com/matthiaskoenig/lisym-tutorial)"
   ]
  },
  {
   "cell_type": "code",
   "execution_count": null,
   "metadata": {
    "collapsed": true
   },
   "outputs": [],
   "source": []
  }
 ],
 "metadata": {
  "kernelspec": {
   "display_name": "dfba",
   "language": "python",
   "name": "dfba"
  },
  "language_info": {
   "codemirror_mode": {
    "name": "ipython",
    "version": 3
   },
   "file_extension": ".py",
   "mimetype": "text/x-python",
   "name": "python",
   "nbconvert_exporter": "python",
   "pygments_lexer": "ipython3",
   "version": "3.6.3"
  }
 },
 "nbformat": 4,
 "nbformat_minor": 2
}
